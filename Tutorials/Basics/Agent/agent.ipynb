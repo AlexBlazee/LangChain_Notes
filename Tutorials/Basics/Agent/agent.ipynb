{
 "cells": [
  {
   "cell_type": "code",
   "execution_count": 1,
   "metadata": {},
   "outputs": [],
   "source": [
    "# Llm can t take actions , Agents use LLM as reasoning to determine the action and input to pass tp them. Post Agent execution , result i sfed back into the LLM to detrmine the next step"
   ]
  },
  {
   "cell_type": "code",
   "execution_count": null,
   "metadata": {},
   "outputs": [],
   "source": [
    "# ! pip install langgraph"
   ]
  },
  {
   "cell_type": "markdown",
   "metadata": {},
   "source": [
    "### Search engine Agent"
   ]
  },
  {
   "cell_type": "markdown",
   "metadata": {},
   "source": [
    "In following this tutorial, you will learn how to:\n",
    "\n",
    "1. Use language models, in particular their tool calling ability\n",
    "2. Use a Search Tool to look up information from the Internet\n",
    "3. Compose a LangGraph Agent, which use an LLM to determine actions and then execute them\n",
    "4. Debug and trace your application using LangSmith"
   ]
  },
  {
   "cell_type": "code",
   "execution_count": 3,
   "metadata": {},
   "outputs": [],
   "source": [
    "from dotenv import load_dotenv\n",
    "import os\n",
    "os.environ[\"LANGCHAIN_TRACING_V2\"] = \"true\"\n",
    "load_dotenv()\n",
    "\n",
    "from langchain_core.messages import HumanMessage\n",
    "from langchain_openai import ChatOpenAI\n",
    "model = ChatOpenAI(model='gpt-3.5-turbo')"
   ]
  },
  {
   "cell_type": "code",
   "execution_count": 4,
   "metadata": {},
   "outputs": [
    {
     "name": "stdout",
     "output_type": "stream",
     "text": [
      "[{'url': 'https://world-weather.info/forecast/usa/chicago/june-2024/', 'content': 'Extended weather forecast in Chicago. Hourly Week 10 days 14 days 30 days Year. Detailed ⚡ Chicago Weather Forecast for June 2024 - day/night 🌡️ temperatures, precipitations - World-Weather.info.'}, {'url': 'https://www.weatherapi.com/', 'content': \"{'location': {'name': 'Chicago', 'region': 'Illinois', 'country': 'United States of America', 'lat': 41.85, 'lon': -87.65, 'tz_id': 'America/Chicago', 'localtime_epoch': 1718733992, 'localtime': '2024-06-18 13:06'}, 'current': {'last_updated_epoch': 1718733600, 'last_updated': '2024-06-18 13:00', 'temp_c': 29.2, 'temp_f': 84.5, 'is_day': 1, 'condition': {'text': 'Patchy rain nearby', 'icon': '//cdn.weatherapi.com/weather/64x64/day/176.png', 'code': 1063}, 'wind_mph': 15.2, 'wind_kph': 24.5, 'wind_degree': 192, 'wind_dir': 'SSW', 'pressure_mb': 1014.0, 'pressure_in': 29.95, 'precip_mm': 0.07, 'precip_in': 0.0, 'humidity': 56, 'cloud': 55, 'feelslike_c': 31.2, 'feelslike_f': 88.1, 'windchill_c': 29.2, 'windchill_f': 84.5, 'heatindex_c': 31.2, 'heatindex_f': 88.1, 'dewpoint_c': 19.7, 'dewpoint_f': 67.4, 'vis_km': 10.0, 'vis_miles': 6.0, 'uv': 6.0, 'gust_mph': 20.5, 'gust_kph': 33.0}}\"}]\n"
     ]
    }
   ],
   "source": [
    "from langchain_community.tools.tavily_search import TavilySearchResults\n",
    "search = TavilySearchResults(max_results=2)\n",
    "search_results = search.invoke(\"What is the weather in Chicago\")\n",
    "print(search_results)\n",
    "tools = [search]"
   ]
  },
  {
   "cell_type": "code",
   "execution_count": 7,
   "metadata": {},
   "outputs": [
    {
     "data": {
      "text/plain": [
       "RunnableBinding(bound=ChatOpenAI(client=<openai.resources.chat.completions.Completions object at 0x000002875DEED910>, async_client=<openai.resources.chat.completions.AsyncCompletions object at 0x000002875DEFE490>, openai_api_key=SecretStr('**********'), openai_proxy=''), kwargs={'tools': [{'type': 'function', 'function': {'name': 'tavily_search_results_json', 'description': 'A search engine optimized for comprehensive, accurate, and trusted results. Useful for when you need to answer questions about current events. Input should be a search query.', 'parameters': {'type': 'object', 'properties': {'query': {'description': 'search query to look up', 'type': 'string'}}, 'required': ['query']}}}]})"
      ]
     },
     "execution_count": 7,
     "metadata": {},
     "output_type": "execute_result"
    }
   ],
   "source": [
    "# we use .bind_tools to give LLM the knowledge of the tools - \n",
    "model_with_tools = model.bind_tools(tools)\n",
    "model_with_tools"
   ]
  },
  {
   "cell_type": "code",
   "execution_count": 9,
   "metadata": {},
   "outputs": [
    {
     "name": "stdout",
     "output_type": "stream",
     "text": [
      "Content res : Hello! How can I assist you today?\n",
      "Tool Calls  : []\n"
     ]
    }
   ],
   "source": [
    "response = model_with_tools.invoke([HumanMessage(content=\"Hi!\")])\n",
    "print(\"Content res :\" , response.content)\n",
    "print(\"Tool Calls  :\" , response.tool_calls)"
   ]
  },
  {
   "cell_type": "code",
   "execution_count": 12,
   "metadata": {},
   "outputs": [
    {
     "name": "stdout",
     "output_type": "stream",
     "text": [
      "Content res : {''}\n",
      "Tool Calls  : [{'name': 'tavily_search_results_json', 'args': {'query': 'weather in Chicago'}, 'id': 'call_yZOMgA83RsmEoI1z7aZMaLpy'}]\n"
     ]
    }
   ],
   "source": [
    "response = model_with_tools.invoke([HumanMessage(content=\"Whats weather in Chicago!\")])\n",
    "print(\"Content res :\" , {response.content})\n",
    "print(\"Tool Calls  :\" , response.tool_calls)"
   ]
  },
  {
   "cell_type": "code",
   "execution_count": 13,
   "metadata": {},
   "outputs": [],
   "source": [
    "# content is null , but there is a tool call \n",
    "# this isn't calling the tool yet , its just telling us to . Inorder to actually call it , we would need an agent"
   ]
  },
  {
   "cell_type": "markdown",
   "metadata": {},
   "source": [
    "### create an Agent"
   ]
  },
  {
   "cell_type": "markdown",
   "metadata": {},
   "source": [
    "Will use `LangGraph` to construct the agent. Currently we are using a high level interface to construct the agent, but the nice thing about LangGraph is that this high-level interface is backed by a low-level, highly controllable API in case you want to modify the agent logic."
   ]
  },
  {
   "cell_type": "markdown",
   "metadata": {},
   "source": [
    "Note that we are passing in the `model`, not `model_with_tools`. That is because `create_react_agent` will call `.bind_tools` for us under the hood."
   ]
  },
  {
   "cell_type": "code",
   "execution_count": 16,
   "metadata": {},
   "outputs": [],
   "source": [
    "from langgraph.prebuilt import create_react_agent\n",
    "agent_executor = create_react_agent(model, tools)"
   ]
  },
  {
   "cell_type": "markdown",
   "metadata": {},
   "source": [
    "### Run the agent"
   ]
  },
  {
   "cell_type": "code",
   "execution_count": 17,
   "metadata": {},
   "outputs": [
    {
     "data": {
      "text/plain": [
       "[HumanMessage(content='hi!', id='33e35669-4ea5-471b-8522-b4d48a8bef90'),\n",
       " AIMessage(content='Hello! How can I assist you today?', response_metadata={'token_usage': {'completion_tokens': 10, 'prompt_tokens': 83, 'total_tokens': 93}, 'model_name': 'gpt-3.5-turbo', 'system_fingerprint': None, 'finish_reason': 'stop', 'logprobs': None}, id='run-aa41ec5c-a903-4599-9a0b-776a06322a89-0', usage_metadata={'input_tokens': 83, 'output_tokens': 10, 'total_tokens': 93})]"
      ]
     },
     "execution_count": 17,
     "metadata": {},
     "output_type": "execute_result"
    }
   ],
   "source": [
    "response = agent_executor.invoke({\"messages\": [HumanMessage(content=\"hi!\")]})\n",
    "response[\"messages\"]"
   ]
  },
  {
   "cell_type": "code",
   "execution_count": 20,
   "metadata": {},
   "outputs": [
    {
     "data": {
      "text/plain": [
       "[HumanMessage(content='whats the weather in Chicago?', id='f2c0c81a-9528-4f0d-8bd2-e4c00a17a34e'),\n",
       " AIMessage(content='', additional_kwargs={'tool_calls': [{'id': 'call_irDSBQ1XkB9rr8wvXkUuLnAp', 'function': {'arguments': '{\"query\":\"weather in Chicago\"}', 'name': 'tavily_search_results_json'}, 'type': 'function'}]}, response_metadata={'token_usage': {'completion_tokens': 20, 'prompt_tokens': 88, 'total_tokens': 108}, 'model_name': 'gpt-3.5-turbo', 'system_fingerprint': None, 'finish_reason': 'tool_calls', 'logprobs': None}, id='run-efc1c759-fdee-41e1-9677-6045419bfaa9-0', tool_calls=[{'name': 'tavily_search_results_json', 'args': {'query': 'weather in Chicago'}, 'id': 'call_irDSBQ1XkB9rr8wvXkUuLnAp'}], usage_metadata={'input_tokens': 88, 'output_tokens': 20, 'total_tokens': 108}),\n",
       " ToolMessage(content='[{\"url\": \"https://www.chicagotribune.com/2024/06/18/tuesday-forecast-temperatures-in-low-90s-isolated-thunderstorms-possible/\", \"content\": \"National Weather Service officials are expecting temperatures in the low 90s Tuesday with the possibility of isolated thunderstorms in the afternoon hours. Current morning conditions at O\\'Hare ...\"}, {\"url\": \"https://www.weatherapi.com/\", \"content\": \"{\\'location\\': {\\'name\\': \\'Chicago\\', \\'region\\': \\'Illinois\\', \\'country\\': \\'United States of America\\', \\'lat\\': 41.85, \\'lon\\': -87.65, \\'tz_id\\': \\'America/Chicago\\', \\'localtime_epoch\\': 1718735045, \\'localtime\\': \\'2024-06-18 13:24\\'}, \\'current\\': {\\'last_updated_epoch\\': 1718734500, \\'last_updated\\': \\'2024-06-18 13:15\\', \\'temp_c\\': 31.7, \\'temp_f\\': 89.1, \\'is_day\\': 1, \\'condition\\': {\\'text\\': \\'Partly cloudy\\', \\'icon\\': \\'//cdn.weatherapi.com/weather/64x64/day/116.png\\', \\'code\\': 1003}, \\'wind_mph\\': 20.6, \\'wind_kph\\': 33.1, \\'wind_degree\\': 180, \\'wind_dir\\': \\'S\\', \\'pressure_mb\\': 1016.0, \\'pressure_in\\': 29.99, \\'precip_mm\\': 0.07, \\'precip_in\\': 0.0, \\'humidity\\': 52, \\'cloud\\': 75, \\'feelslike_c\\': 35.5, \\'feelslike_f\\': 95.9, \\'windchill_c\\': 29.2, \\'windchill_f\\': 84.5, \\'heatindex_c\\': 31.2, \\'heatindex_f\\': 88.1, \\'dewpoint_c\\': 19.7, \\'dewpoint_f\\': 67.4, \\'vis_km\\': 16.0, \\'vis_miles\\': 9.0, \\'uv\\': 6.0, \\'gust_mph\\': 25.1, \\'gust_kph\\': 40.3}}\"}]', name='tavily_search_results_json', id='61c362f0-e72d-41b4-9870-09c75adcd3e3', tool_call_id='call_irDSBQ1XkB9rr8wvXkUuLnAp'),\n",
       " AIMessage(content='The current weather in Chicago is partly cloudy with a temperature of 89.1°F (31.7°C). The wind speed is 20.6 mph coming from the south, and there is a 75% cloud cover. The humidity is at 52%, and the UV index is 6.0. There is a possibility of isolated thunderstorms in the afternoon.', response_metadata={'token_usage': {'completion_tokens': 77, 'prompt_tokens': 607, 'total_tokens': 684}, 'model_name': 'gpt-3.5-turbo', 'system_fingerprint': None, 'finish_reason': 'stop', 'logprobs': None}, id='run-8730832f-6bf1-45d8-8d0d-22012e68aa63-0', usage_metadata={'input_tokens': 607, 'output_tokens': 77, 'total_tokens': 684})]"
      ]
     },
     "execution_count": 20,
     "metadata": {},
     "output_type": "execute_result"
    }
   ],
   "source": [
    "response = agent_executor.invoke(\n",
    "    {\"messages\": [HumanMessage(content=\"whats the weather in Chicago?\")]}\n",
    ")\n",
    "response[\"messages\"]"
   ]
  },
  {
   "cell_type": "markdown",
   "metadata": {},
   "source": [
    "### Streaming Messages"
   ]
  },
  {
   "cell_type": "markdown",
   "metadata": {},
   "source": [
    "We've seen how the agent can be called with `.invoke` to get back a final response. If the agent is executing multiple steps, that may take a while. In order to show intermediate progress, we can stream back messages as they occur."
   ]
  },
  {
   "cell_type": "code",
   "execution_count": 22,
   "metadata": {},
   "outputs": [
    {
     "name": "stdout",
     "output_type": "stream",
     "text": [
      "{'agent': {'messages': [AIMessage(content='', additional_kwargs={'tool_calls': [{'id': 'call_vRyCFxeHeJvtOU80gRJ2dgBr', 'function': {'arguments': '{\"query\":\"weather in Chicago\"}', 'name': 'tavily_search_results_json'}, 'type': 'function'}]}, response_metadata={'token_usage': {'completion_tokens': 20, 'prompt_tokens': 88, 'total_tokens': 108}, 'model_name': 'gpt-3.5-turbo', 'system_fingerprint': None, 'finish_reason': 'tool_calls', 'logprobs': None}, id='run-e06e0052-d4b3-45b6-a14c-3e423289767a-0', tool_calls=[{'name': 'tavily_search_results_json', 'args': {'query': 'weather in Chicago'}, 'id': 'call_vRyCFxeHeJvtOU80gRJ2dgBr'}], usage_metadata={'input_tokens': 88, 'output_tokens': 20, 'total_tokens': 108})]}}\n",
      "----\n",
      "{'tools': {'messages': [ToolMessage(content='[{\"url\": \"https://www.wunderground.com/hourly/us/il/chicago/60622/date/2024-6-18\", \"content\": \"Chicago Weather Forecasts. Weather Underground provides local & long-range weather forecasts, weatherreports, maps & tropical weather conditions for the Chicago area. ... Tuesday 06/18 Hourly for ...\"}, {\"url\": \"https://www.weatherapi.com/\", \"content\": \"{\\'location\\': {\\'name\\': \\'Chicago\\', \\'region\\': \\'Illinois\\', \\'country\\': \\'United States of America\\', \\'lat\\': 41.85, \\'lon\\': -87.65, \\'tz_id\\': \\'America/Chicago\\', \\'localtime_epoch\\': 1718735245, \\'localtime\\': \\'2024-06-18 13:27\\'}, \\'current\\': {\\'last_updated_epoch\\': 1718734500, \\'last_updated\\': \\'2024-06-18 13:15\\', \\'temp_c\\': 29.2, \\'temp_f\\': 84.5, \\'is_day\\': 1, \\'condition\\': {\\'text\\': \\'Patchy rain nearby\\', \\'icon\\': \\'//cdn.weatherapi.com/weather/64x64/day/176.png\\', \\'code\\': 1063}, \\'wind_mph\\': 15.2, \\'wind_kph\\': 24.5, \\'wind_degree\\': 192, \\'wind_dir\\': \\'SSW\\', \\'pressure_mb\\': 1014.0, \\'pressure_in\\': 29.95, \\'precip_mm\\': 0.07, \\'precip_in\\': 0.0, \\'humidity\\': 56, \\'cloud\\': 55, \\'feelslike_c\\': 31.2, \\'feelslike_f\\': 88.1, \\'windchill_c\\': 29.2, \\'windchill_f\\': 84.5, \\'heatindex_c\\': 31.2, \\'heatindex_f\\': 88.1, \\'dewpoint_c\\': 19.7, \\'dewpoint_f\\': 67.4, \\'vis_km\\': 10.0, \\'vis_miles\\': 6.0, \\'uv\\': 6.0, \\'gust_mph\\': 20.5, \\'gust_kph\\': 33.0}}\"}]', name='tavily_search_results_json', tool_call_id='call_vRyCFxeHeJvtOU80gRJ2dgBr')]}}\n",
      "----\n",
      "{'agent': {'messages': [AIMessage(content='The current weather in Chicago is as follows:\\n- Temperature: 84.5°F (29.2°C)\\n- Condition: Patchy rain nearby\\n- Wind: 15.2 mph\\n- Humidity: 56%\\n- Cloud Cover: 55%\\n- UV Index: 6.0\\n\\nFor more detailed information, you can visit [Weather Underground](https://www.wunderground.com/hourly/us/il/chicago/60622/date/2024-6-18) or [WeatherAPI](https://www.weatherapi.com/).', response_metadata={'token_usage': {'completion_tokens': 115, 'prompt_tokens': 601, 'total_tokens': 716}, 'model_name': 'gpt-3.5-turbo', 'system_fingerprint': None, 'finish_reason': 'stop', 'logprobs': None}, id='run-5e47de0e-18ab-4376-94ed-498f056f10eb-0', usage_metadata={'input_tokens': 601, 'output_tokens': 115, 'total_tokens': 716})]}}\n",
      "----\n"
     ]
    }
   ],
   "source": [
    "for chunk in agent_executor.stream(\n",
    "    {\"messages\": [HumanMessage(content=\"whats the weather in Chicago?\")]}\n",
    "):\n",
    "    print(chunk)\n",
    "    print(\"----\")"
   ]
  },
  {
   "cell_type": "markdown",
   "metadata": {},
   "source": [
    "### Streaming Tokens can be benificial if we need to pass it to other info , we use `.astream_events`"
   ]
  },
  {
   "cell_type": "code",
   "execution_count": 24,
   "metadata": {},
   "outputs": [
    {
     "name": "stdout",
     "output_type": "stream",
     "text": [
      "--\n",
      "Starting tool: tavily_search_results_json with inputs: {'query': 'weather in Chicago'}\n",
      "Done tool: tavily_search_results_json\n",
      "Tool output was: [{'url': 'https://www.accuweather.com/en/us/chicago/60608/june-weather/348308', 'content': 'Get the monthly weather forecast for Chicago, IL, including daily high/low, historical averages, to help you plan ahead.'}, {'url': 'https://world-weather.info/forecast/usa/chicago/june-2024/', 'content': 'Extended weather forecast in Chicago. Hourly Week 10 days 14 days 30 days Year. Detailed ⚡ Chicago Weather Forecast for June 2024 - day/night 🌡️ temperatures, precipitations - World-Weather.info.'}]\n",
      "--\n",
      "I| found| some| resources| for| the| weather| in| Chicago|:\n",
      "\n",
      "|1|.| [|Acc|u|Weather|](|https|://|www|.acc|u|weather|.com|/en|/us|/ch|icago|/|606|08|/j|une|-|weather|/|348|308|):| Get| the| monthly| weather| forecast| for| Chicago|,| IL|,| including| daily| high|/|low|,| historical| averages|,| to| help| you| plan| ahead|.\n",
      "|   \n",
      "|2|.| [|World| Weather|](|https|://|world|-|weather|.info|/|forecast|/|usa|/ch|icago|/j|une|-|202|4|/|):| Extended| weather| forecast| in| Chicago|.| Hour|ly|,| week|,| |10| days|,| |14| days|,| |30| days|,| and| year|.| Detailed| Chicago| Weather| Forecast| for| June| |202|4| with| day|/|night| temperatures| and| precip|itations|.|"
     ]
    }
   ],
   "source": [
    "async for event in agent_executor.astream_events(\n",
    "    {\"messages\": [HumanMessage(content=\"whats the weather in Chicago?\")]}, version=\"v1\"\n",
    "):\n",
    "    kind = event[\"event\"]\n",
    "    if kind == \"on_chain_start\":\n",
    "        if (\n",
    "            event[\"name\"] == \"Agent\"\n",
    "        ):  # Was assigned when creating the agent with `.with_config({\"run_name\": \"Agent\"})`\n",
    "            print(\n",
    "                f\"Starting agent: {event['name']} with input: {event['data'].get('input')}\"\n",
    "            )\n",
    "    elif kind == \"on_chain_end\":\n",
    "        if (\n",
    "            event[\"name\"] == \"Agent\"\n",
    "        ):  # Was assigned when creating the agent with `.with_config({\"run_name\": \"Agent\"})`\n",
    "            print()\n",
    "            print(\"--\")\n",
    "            print(\n",
    "                f\"Done agent: {event['name']} with output: {event['data'].get('output')['output']}\"\n",
    "            )\n",
    "    if kind == \"on_chat_model_stream\":\n",
    "        content = event[\"data\"][\"chunk\"].content\n",
    "        if content:\n",
    "            # Empty content in the context of OpenAI means\n",
    "            # that the model is asking for a tool to be invoked.\n",
    "            # So we only print non-empty content\n",
    "            print(content, end=\"|\")\n",
    "    elif kind == \"on_tool_start\":\n",
    "        print(\"--\")\n",
    "        print(\n",
    "            f\"Starting tool: {event['name']} with inputs: {event['data'].get('input')}\"\n",
    "        )\n",
    "    elif kind == \"on_tool_end\":\n",
    "        print(f\"Done tool: {event['name']}\")\n",
    "        print(f\"Tool output was: {event['data'].get('output')}\")\n",
    "        print(\"--\")"
   ]
  },
  {
   "cell_type": "markdown",
   "metadata": {},
   "source": [
    "### Addding in Memory"
   ]
  },
  {
   "cell_type": "markdown",
   "metadata": {},
   "source": [
    "this agent is stateless. This means it does not remember previous interactions. To give it memory we need to pass in a checkpointer. When passing in a checkpointer, we also have to pass in a thread_id when invoking the agent (so it knows which thread/conversation to resume from)."
   ]
  },
  {
   "cell_type": "code",
   "execution_count": 25,
   "metadata": {},
   "outputs": [],
   "source": [
    "from langgraph.checkpoint.sqlite import SqliteSaver\n",
    "memory = SqliteSaver.from_conn_string(\":memory:\")\n",
    "agent_executor = create_react_agent(model, tools, checkpointer=memory)\n",
    "config = {\"configurable\": {\"thread_id\": \"abc123\"}}"
   ]
  },
  {
   "cell_type": "code",
   "execution_count": 26,
   "metadata": {},
   "outputs": [
    {
     "name": "stdout",
     "output_type": "stream",
     "text": [
      "{'agent': {'messages': [AIMessage(content='Hello Bob! How can I assist you today?', response_metadata={'token_usage': {'completion_tokens': 11, 'prompt_tokens': 85, 'total_tokens': 96}, 'model_name': 'gpt-3.5-turbo', 'system_fingerprint': None, 'finish_reason': 'stop', 'logprobs': None}, id='run-4a2b1f87-81b3-4bfa-b9e8-fa26db42e211-0', usage_metadata={'input_tokens': 85, 'output_tokens': 11, 'total_tokens': 96})]}}\n",
      "----\n"
     ]
    }
   ],
   "source": [
    "for chunk in agent_executor.stream(\n",
    "    {\"messages\": [HumanMessage(content=\"hi im bob!\")]}, config\n",
    "):\n",
    "    print(chunk)\n",
    "    print(\"----\")"
   ]
  },
  {
   "cell_type": "code",
   "execution_count": 27,
   "metadata": {},
   "outputs": [
    {
     "name": "stdout",
     "output_type": "stream",
     "text": [
      "{'agent': {'messages': [AIMessage(content='Your name is Bob! How can I help you further, Bob?', response_metadata={'token_usage': {'completion_tokens': 15, 'prompt_tokens': 108, 'total_tokens': 123}, 'model_name': 'gpt-3.5-turbo', 'system_fingerprint': None, 'finish_reason': 'stop', 'logprobs': None}, id='run-d555dc16-cd5c-44e9-affc-b06db4c00057-0', usage_metadata={'input_tokens': 108, 'output_tokens': 15, 'total_tokens': 123})]}}\n",
      "----\n"
     ]
    }
   ],
   "source": [
    "for chunk in agent_executor.stream(\n",
    "    {\"messages\": [HumanMessage(content=\"whats my name?\")]}, config\n",
    "):\n",
    "    print(chunk)\n",
    "    print(\"----\")"
   ]
  },
  {
   "cell_type": "code",
   "execution_count": null,
   "metadata": {},
   "outputs": [],
   "source": []
  }
 ],
 "metadata": {
  "kernelspec": {
   "display_name": "lang",
   "language": "python",
   "name": "python3"
  },
  "language_info": {
   "codemirror_mode": {
    "name": "ipython",
    "version": 3
   },
   "file_extension": ".py",
   "mimetype": "text/x-python",
   "name": "python",
   "nbconvert_exporter": "python",
   "pygments_lexer": "ipython3",
   "version": "3.11.9"
  }
 },
 "nbformat": 4,
 "nbformat_minor": 2
}
